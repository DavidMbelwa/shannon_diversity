{
 "cells": [
  {
   "cell_type": "markdown",
   "id": "3fb42d41",
   "metadata": {
    "papermill": {
     "duration": 0.005222,
     "end_time": "2023-12-22T14:48:55.494082",
     "exception": false,
     "start_time": "2023-12-22T14:48:55.488860",
     "status": "completed"
    },
    "tags": []
   },
   "source": [
    "# How Well Do Countries Eat? Part 2: Diversity of Foods in the Food Supply"
   ]
  },
  {
   "cell_type": "markdown",
   "id": "5590bf0c",
   "metadata": {
    "papermill": {
     "duration": 0.005222,
     "end_time": "2023-12-22T14:48:55.494082",
     "exception": false,
     "start_time": "2023-12-22T14:48:55.488860",
     "status": "completed"
    },
    "tags": []
   },
   "source": [
    "![](img.jpg)"
   ]
  },
  {
   "cell_type": "markdown",
   "id": "9653dbd3",
   "metadata": {
    "papermill": {
     "duration": 0.005222,
     "end_time": "2023-12-22T14:48:55.494082",
     "exception": false,
     "start_time": "2023-12-22T14:48:55.488860",
     "status": "completed"
    },
    "tags": []
   },
   "source": [
    "Welcome. This is the second part of the analysis that looked at the food nutrient adequacy of countries in four income groups: High-income, upper-middle-income, lower-middle-income, and low-income. In this installment, I'm measuring food supply diversity by using Shannon diversity, a method that checks how much variation is there in the quantity of different foods in the food supply. According to this method, the more unequal the quantity of foods available in the food system, the less diverse the food system is.\n",
    "\n",
    "The data for this indicator was the per capita food supply data for the year 2019, and it was obtained from [FAO's food balance sheets](https://www.fao.org/faostat/en/#data). The data was then grouped into 13 food groups, according to USDA's food composition tables. The units are expressed as kg per person per year. The data was of 2019 because this study was a study that looked at a period just before the COVID-19 pandemic."
   ]
  },
  {
   "cell_type": "markdown",
   "id": "541dce57",
   "metadata": {
    "papermill": {
     "duration": 0.004603,
     "end_time": "2023-12-22T14:48:55.504230",
     "exception": false,
     "start_time": "2023-12-22T14:48:55.499627",
     "status": "completed"
    },
    "tags": []
   },
   "source": [
    "# Executive Summary\n",
    "\n",
    "1. The larger the economy, the more diverse the diet is.\n",
    "\n",
    "2. High income countries leads all other groups, with a median diversity score of 81.4 out 100 (100 being most diverse), followed by upper-middle-income (78.3), lower-middle-income (72.3), and then low-income (68.8).\n",
    "\n",
    "2. There is statistically significant difference between income groups; which means that it makes a difference in the diversity of your diet if you're born in a high-income country, upper-middle-income, lower-middle-income, or low income."
   ]
  },
  {
   "cell_type": "markdown",
   "id": "06daec9f",
   "metadata": {
    "papermill": {
     "duration": 0.004664,
     "end_time": "2023-12-22T14:48:55.513766",
     "exception": false,
     "start_time": "2023-12-22T14:48:55.509102",
     "status": "completed"
    },
    "tags": []
   },
   "source": [
    "# Previewing the Dataset"
   ]
  },
  {
   "cell_type": "code",
   "execution_count": 1,
   "id": "ef1f7f4b",
   "metadata": {
    "execution": {
     "iopub.execute_input": "2023-12-22T14:48:55.526075Z",
     "iopub.status.busy": "2023-12-22T14:48:55.525302Z",
     "iopub.status.idle": "2023-12-22T14:48:58.708441Z",
     "shell.execute_reply": "2023-12-22T14:48:58.707308Z"
    },
    "papermill": {
     "duration": 3.19237,
     "end_time": "2023-12-22T14:48:58.711002",
     "exception": false,
     "start_time": "2023-12-22T14:48:55.518632",
     "status": "completed"
    },
    "tags": []
   },
   "outputs": [],
   "source": [
    "# Necessary packages\n",
    "import pandas as pd\n",
    "import numpy as np\n",
    "import matplotlib.pyplot as plt\n",
    "import seaborn as sns\n",
    "from statsmodels.formula.api import ols\n",
    "import statsmodels.api as sm"
   ]
  },
  {
   "cell_type": "code",
   "execution_count": 2,
   "id": "ec9c8948",
   "metadata": {
    "execution": {
     "iopub.execute_input": "2023-12-22T14:48:58.723453Z",
     "iopub.status.busy": "2023-12-22T14:48:58.722328Z",
     "iopub.status.idle": "2023-12-22T14:48:58.768528Z",
     "shell.execute_reply": "2023-12-22T14:48:58.767495Z"
    },
    "papermill": {
     "duration": 0.054506,
     "end_time": "2023-12-22T14:48:58.770719",
     "exception": false,
     "start_time": "2023-12-22T14:48:58.716213",
     "status": "completed"
    },
    "tags": []
   },
   "outputs": [
    {
     "data": {
      "text/html": [
       "<div>\n",
       "<style scoped>\n",
       "    .dataframe tbody tr th:only-of-type {\n",
       "        vertical-align: middle;\n",
       "    }\n",
       "\n",
       "    .dataframe tbody tr th {\n",
       "        vertical-align: top;\n",
       "    }\n",
       "\n",
       "    .dataframe thead th {\n",
       "        text-align: right;\n",
       "    }\n",
       "</style>\n",
       "<table border=\"1\" class=\"dataframe\">\n",
       "  <thead>\n",
       "    <tr style=\"text-align: right;\">\n",
       "      <th></th>\n",
       "      <th>Country</th>\n",
       "      <th>Income group</th>\n",
       "      <th>Region</th>\n",
       "      <th>Cereals</th>\n",
       "      <th>Roots &amp; Tubers</th>\n",
       "      <th>Vegetables</th>\n",
       "      <th>Fruits &amp; Plantains</th>\n",
       "      <th>Seeds, Nuts, and Oils</th>\n",
       "      <th>Starch and Sugars</th>\n",
       "      <th>Infant Food</th>\n",
       "      <th>Dairy and Egg Products</th>\n",
       "      <th>Finfish / Shellfish Products</th>\n",
       "      <th>Beef Products</th>\n",
       "      <th>Poultry</th>\n",
       "      <th>Legume and Legume Products</th>\n",
       "      <th>Spices &amp; Herbs</th>\n",
       "    </tr>\n",
       "  </thead>\n",
       "  <tbody>\n",
       "    <tr>\n",
       "      <th>0</th>\n",
       "      <td>Spain</td>\n",
       "      <td>High income</td>\n",
       "      <td>Europe &amp; Central Asia</td>\n",
       "      <td>113.1</td>\n",
       "      <td>60.3</td>\n",
       "      <td>120.2</td>\n",
       "      <td>93.7</td>\n",
       "      <td>48.5</td>\n",
       "      <td>32.5</td>\n",
       "      <td>0.4</td>\n",
       "      <td>182.0</td>\n",
       "      <td>40.8</td>\n",
       "      <td>21.8</td>\n",
       "      <td>33.3</td>\n",
       "      <td>5.8</td>\n",
       "      <td>0.4</td>\n",
       "    </tr>\n",
       "    <tr>\n",
       "      <th>1</th>\n",
       "      <td>Chile</td>\n",
       "      <td>High income</td>\n",
       "      <td>Latin America &amp; Caribbean</td>\n",
       "      <td>153.3</td>\n",
       "      <td>57.9</td>\n",
       "      <td>71.9</td>\n",
       "      <td>59.9</td>\n",
       "      <td>10.8</td>\n",
       "      <td>41.2</td>\n",
       "      <td>0.0</td>\n",
       "      <td>94.1</td>\n",
       "      <td>14.0</td>\n",
       "      <td>26.8</td>\n",
       "      <td>38.7</td>\n",
       "      <td>3.9</td>\n",
       "      <td>1.5</td>\n",
       "    </tr>\n",
       "    <tr>\n",
       "      <th>2</th>\n",
       "      <td>Iceland</td>\n",
       "      <td>High income</td>\n",
       "      <td>Europe &amp; Central Asia</td>\n",
       "      <td>84.4</td>\n",
       "      <td>35.6</td>\n",
       "      <td>77.2</td>\n",
       "      <td>89.1</td>\n",
       "      <td>28.0</td>\n",
       "      <td>80.6</td>\n",
       "      <td>0.3</td>\n",
       "      <td>232.1</td>\n",
       "      <td>91.2</td>\n",
       "      <td>42.8</td>\n",
       "      <td>31.4</td>\n",
       "      <td>1.1</td>\n",
       "      <td>1.6</td>\n",
       "    </tr>\n",
       "    <tr>\n",
       "      <th>3</th>\n",
       "      <td>Sweden</td>\n",
       "      <td>High income</td>\n",
       "      <td>Europe &amp; Central Asia</td>\n",
       "      <td>115.0</td>\n",
       "      <td>53.9</td>\n",
       "      <td>85.1</td>\n",
       "      <td>60.9</td>\n",
       "      <td>21.8</td>\n",
       "      <td>46.5</td>\n",
       "      <td>0.3</td>\n",
       "      <td>234.7</td>\n",
       "      <td>32.3</td>\n",
       "      <td>32.8</td>\n",
       "      <td>16.3</td>\n",
       "      <td>2.5</td>\n",
       "      <td>1.1</td>\n",
       "    </tr>\n",
       "    <tr>\n",
       "      <th>4</th>\n",
       "      <td>Slovenia</td>\n",
       "      <td>High income</td>\n",
       "      <td>Europe &amp; Central Asia</td>\n",
       "      <td>140.1</td>\n",
       "      <td>38.1</td>\n",
       "      <td>99.5</td>\n",
       "      <td>104.7</td>\n",
       "      <td>16.6</td>\n",
       "      <td>44.7</td>\n",
       "      <td>0.0</td>\n",
       "      <td>192.0</td>\n",
       "      <td>13.2</td>\n",
       "      <td>20.9</td>\n",
       "      <td>29.1</td>\n",
       "      <td>1.4</td>\n",
       "      <td>0.3</td>\n",
       "    </tr>\n",
       "  </tbody>\n",
       "</table>\n",
       "</div>"
      ],
      "text/plain": [
       "    Country Income group                     Region  Cereals  Roots & Tubers  \\\n",
       "0     Spain  High income      Europe & Central Asia    113.1            60.3   \n",
       "1     Chile  High income  Latin America & Caribbean    153.3            57.9   \n",
       "2   Iceland  High income      Europe & Central Asia     84.4            35.6   \n",
       "3    Sweden  High income      Europe & Central Asia    115.0            53.9   \n",
       "4  Slovenia  High income      Europe & Central Asia    140.1            38.1   \n",
       "\n",
       "   Vegetables  Fruits & Plantains  Seeds, Nuts, and Oils  Starch and Sugars  \\\n",
       "0       120.2                93.7                   48.5               32.5   \n",
       "1        71.9                59.9                   10.8               41.2   \n",
       "2        77.2                89.1                   28.0               80.6   \n",
       "3        85.1                60.9                   21.8               46.5   \n",
       "4        99.5               104.7                   16.6               44.7   \n",
       "\n",
       "   Infant Food  Dairy and Egg Products  Finfish / Shellfish Products  \\\n",
       "0          0.4                   182.0                          40.8   \n",
       "1          0.0                    94.1                          14.0   \n",
       "2          0.3                   232.1                          91.2   \n",
       "3          0.3                   234.7                          32.3   \n",
       "4          0.0                   192.0                          13.2   \n",
       "\n",
       "   Beef Products  Poultry  Legume and Legume Products  Spices & Herbs  \n",
       "0           21.8     33.3                         5.8             0.4  \n",
       "1           26.8     38.7                         3.9             1.5  \n",
       "2           42.8     31.4                         1.1             1.6  \n",
       "3           32.8     16.3                         2.5             1.1  \n",
       "4           20.9     29.1                         1.4             0.3  "
      ]
     },
     "execution_count": 2,
     "metadata": {},
     "output_type": "execute_result"
    }
   ],
   "source": [
    "data = pd.read_csv(\"/kaggle/input/food-supply-data-2019/1_Aggregated_Food_Supplies.csv\")\n",
    "\n",
    "data.head()"
   ]
  },
  {
   "cell_type": "markdown",
   "id": "11ead6ca",
   "metadata": {
    "papermill": {
     "duration": 0.005033,
     "end_time": "2023-12-22T14:48:58.781033",
     "exception": false,
     "start_time": "2023-12-22T14:48:58.776000",
     "status": "completed"
    },
    "tags": []
   },
   "source": [
    "# Programming the Shannon Formula"
   ]
  },
  {
   "cell_type": "code",
   "execution_count": 3,
   "id": "2870c2fa",
   "metadata": {
    "execution": {
     "iopub.execute_input": "2023-12-22T14:48:58.793558Z",
     "iopub.status.busy": "2023-12-22T14:48:58.793139Z",
     "iopub.status.idle": "2023-12-22T14:48:58.802180Z",
     "shell.execute_reply": "2023-12-22T14:48:58.800685Z"
    },
    "papermill": {
     "duration": 0.019334,
     "end_time": "2023-12-22T14:48:58.805846",
     "exception": false,
     "start_time": "2023-12-22T14:48:58.786512",
     "status": "completed"
    },
    "tags": []
   },
   "outputs": [],
   "source": [
    "# Creating a function for calculating Shannon_diversity\n",
    "\n",
    "def Shannon_diversity(dataframe) :\n",
    "    \"\"\"Calculates Shannon Diversity from the DataFrame\"\"\"\n",
    "\n",
    "    # Creating the \"Total Column\"\n",
    "    dataframe.loc[:, \"Total\"] = dataframe.sum(axis=1)\n",
    "\n",
    "\n",
    "    # Removing zeroes and NaNs (Dividing columns with these values to the total will bring something nobody wants.)\n",
    "    some_list = list()\n",
    "    \n",
    "    for i, val in dataframe.iterrows():\n",
    "        j = dataframe.loc[[i]].dropna(axis=1)\n",
    "\n",
    "        j = j.loc[:, (j != 0).any(axis=0)]\n",
    "\n",
    "        some_list.append(j)\n",
    "\n",
    "    \n",
    "    # The Shannon Diversity Index\n",
    "    container_1 = list()\n",
    "\n",
    "    for i in range(len(some_list)):\n",
    "        frame = some_list[i]\n",
    "\n",
    "        container_2 = list()\n",
    "\n",
    "        for col in frame :\n",
    "            if col != \"Total\":\n",
    "                d_index = abs(frame[col] / frame[\"Total\"] * np.log(frame[col] / frame[\"Total\"]))\n",
    "\n",
    "                container_2.append(d_index)\n",
    "            else:\n",
    "                continue\n",
    "\n",
    "            index_array = np.array(container_2).sum()\n",
    "\n",
    "\n",
    "        container_1.append(index_array)\n",
    "\n",
    "\n",
    "    dataframe.loc[:, \"Supply Diversity Indeces\"] = container_1\n",
    "\n",
    "    return pd.DataFrame(dataframe.loc[:, \"Supply Diversity Indeces\"])"
   ]
  },
  {
   "cell_type": "markdown",
   "id": "10a0a257",
   "metadata": {
    "papermill": {
     "duration": 0.005056,
     "end_time": "2023-12-22T14:48:58.816118",
     "exception": false,
     "start_time": "2023-12-22T14:48:58.811062",
     "status": "completed"
    },
    "tags": []
   },
   "source": [
    "# Calculating Shannon Diversity"
   ]
  },
  {
   "cell_type": "code",
   "execution_count": 4,
   "id": "f39acec6",
   "metadata": {
    "execution": {
     "iopub.execute_input": "2023-12-22T14:48:58.828321Z",
     "iopub.status.busy": "2023-12-22T14:48:58.827937Z",
     "iopub.status.idle": "2023-12-22T14:48:58.854405Z",
     "shell.execute_reply": "2023-12-22T14:48:58.853283Z"
    },
    "papermill": {
     "duration": 0.035436,
     "end_time": "2023-12-22T14:48:58.856788",
     "exception": false,
     "start_time": "2023-12-22T14:48:58.821352",
     "status": "completed"
    },
    "tags": []
   },
   "outputs": [
    {
     "data": {
      "text/html": [
       "<div>\n",
       "<style scoped>\n",
       "    .dataframe tbody tr th:only-of-type {\n",
       "        vertical-align: middle;\n",
       "    }\n",
       "\n",
       "    .dataframe tbody tr th {\n",
       "        vertical-align: top;\n",
       "    }\n",
       "\n",
       "    .dataframe thead th {\n",
       "        text-align: right;\n",
       "    }\n",
       "</style>\n",
       "<table border=\"1\" class=\"dataframe\">\n",
       "  <thead>\n",
       "    <tr style=\"text-align: right;\">\n",
       "      <th></th>\n",
       "      <th>Income group</th>\n",
       "      <th>Region</th>\n",
       "      <th>Cereals</th>\n",
       "      <th>Roots &amp; Tubers</th>\n",
       "      <th>Vegetables</th>\n",
       "      <th>Fruits &amp; Plantains</th>\n",
       "      <th>Seeds, Nuts, and Oils</th>\n",
       "      <th>Starch and Sugars</th>\n",
       "      <th>Infant Food</th>\n",
       "      <th>Dairy and Egg Products</th>\n",
       "      <th>Finfish / Shellfish Products</th>\n",
       "      <th>Beef Products</th>\n",
       "      <th>Poultry</th>\n",
       "      <th>Legume and Legume Products</th>\n",
       "      <th>Spices &amp; Herbs</th>\n",
       "    </tr>\n",
       "    <tr>\n",
       "      <th>Country</th>\n",
       "      <th></th>\n",
       "      <th></th>\n",
       "      <th></th>\n",
       "      <th></th>\n",
       "      <th></th>\n",
       "      <th></th>\n",
       "      <th></th>\n",
       "      <th></th>\n",
       "      <th></th>\n",
       "      <th></th>\n",
       "      <th></th>\n",
       "      <th></th>\n",
       "      <th></th>\n",
       "      <th></th>\n",
       "      <th></th>\n",
       "    </tr>\n",
       "  </thead>\n",
       "  <tbody>\n",
       "    <tr>\n",
       "      <th>Spain</th>\n",
       "      <td>High income</td>\n",
       "      <td>Europe &amp; Central Asia</td>\n",
       "      <td>113.1</td>\n",
       "      <td>60.3</td>\n",
       "      <td>120.2</td>\n",
       "      <td>93.7</td>\n",
       "      <td>48.5</td>\n",
       "      <td>32.5</td>\n",
       "      <td>0.4</td>\n",
       "      <td>182.0</td>\n",
       "      <td>40.8</td>\n",
       "      <td>21.8</td>\n",
       "      <td>33.3</td>\n",
       "      <td>5.8</td>\n",
       "      <td>0.4</td>\n",
       "    </tr>\n",
       "    <tr>\n",
       "      <th>Chile</th>\n",
       "      <td>High income</td>\n",
       "      <td>Latin America &amp; Caribbean</td>\n",
       "      <td>153.3</td>\n",
       "      <td>57.9</td>\n",
       "      <td>71.9</td>\n",
       "      <td>59.9</td>\n",
       "      <td>10.8</td>\n",
       "      <td>41.2</td>\n",
       "      <td>0.0</td>\n",
       "      <td>94.1</td>\n",
       "      <td>14.0</td>\n",
       "      <td>26.8</td>\n",
       "      <td>38.7</td>\n",
       "      <td>3.9</td>\n",
       "      <td>1.5</td>\n",
       "    </tr>\n",
       "    <tr>\n",
       "      <th>Iceland</th>\n",
       "      <td>High income</td>\n",
       "      <td>Europe &amp; Central Asia</td>\n",
       "      <td>84.4</td>\n",
       "      <td>35.6</td>\n",
       "      <td>77.2</td>\n",
       "      <td>89.1</td>\n",
       "      <td>28.0</td>\n",
       "      <td>80.6</td>\n",
       "      <td>0.3</td>\n",
       "      <td>232.1</td>\n",
       "      <td>91.2</td>\n",
       "      <td>42.8</td>\n",
       "      <td>31.4</td>\n",
       "      <td>1.1</td>\n",
       "      <td>1.6</td>\n",
       "    </tr>\n",
       "    <tr>\n",
       "      <th>Sweden</th>\n",
       "      <td>High income</td>\n",
       "      <td>Europe &amp; Central Asia</td>\n",
       "      <td>115.0</td>\n",
       "      <td>53.9</td>\n",
       "      <td>85.1</td>\n",
       "      <td>60.9</td>\n",
       "      <td>21.8</td>\n",
       "      <td>46.5</td>\n",
       "      <td>0.3</td>\n",
       "      <td>234.7</td>\n",
       "      <td>32.3</td>\n",
       "      <td>32.8</td>\n",
       "      <td>16.3</td>\n",
       "      <td>2.5</td>\n",
       "      <td>1.1</td>\n",
       "    </tr>\n",
       "    <tr>\n",
       "      <th>Slovenia</th>\n",
       "      <td>High income</td>\n",
       "      <td>Europe &amp; Central Asia</td>\n",
       "      <td>140.1</td>\n",
       "      <td>38.1</td>\n",
       "      <td>99.5</td>\n",
       "      <td>104.7</td>\n",
       "      <td>16.6</td>\n",
       "      <td>44.7</td>\n",
       "      <td>0.0</td>\n",
       "      <td>192.0</td>\n",
       "      <td>13.2</td>\n",
       "      <td>20.9</td>\n",
       "      <td>29.1</td>\n",
       "      <td>1.4</td>\n",
       "      <td>0.3</td>\n",
       "    </tr>\n",
       "  </tbody>\n",
       "</table>\n",
       "</div>"
      ],
      "text/plain": [
       "         Income group                     Region  Cereals  Roots & Tubers  \\\n",
       "Country                                                                     \n",
       "Spain     High income      Europe & Central Asia    113.1            60.3   \n",
       "Chile     High income  Latin America & Caribbean    153.3            57.9   \n",
       "Iceland   High income      Europe & Central Asia     84.4            35.6   \n",
       "Sweden    High income      Europe & Central Asia    115.0            53.9   \n",
       "Slovenia  High income      Europe & Central Asia    140.1            38.1   \n",
       "\n",
       "          Vegetables  Fruits & Plantains  Seeds, Nuts, and Oils  \\\n",
       "Country                                                           \n",
       "Spain          120.2                93.7                   48.5   \n",
       "Chile           71.9                59.9                   10.8   \n",
       "Iceland         77.2                89.1                   28.0   \n",
       "Sweden          85.1                60.9                   21.8   \n",
       "Slovenia        99.5               104.7                   16.6   \n",
       "\n",
       "          Starch and Sugars  Infant Food  Dairy and Egg Products  \\\n",
       "Country                                                            \n",
       "Spain                  32.5          0.4                   182.0   \n",
       "Chile                  41.2          0.0                    94.1   \n",
       "Iceland                80.6          0.3                   232.1   \n",
       "Sweden                 46.5          0.3                   234.7   \n",
       "Slovenia               44.7          0.0                   192.0   \n",
       "\n",
       "          Finfish / Shellfish Products  Beef Products  Poultry  \\\n",
       "Country                                                          \n",
       "Spain                             40.8           21.8     33.3   \n",
       "Chile                             14.0           26.8     38.7   \n",
       "Iceland                           91.2           42.8     31.4   \n",
       "Sweden                            32.3           32.8     16.3   \n",
       "Slovenia                          13.2           20.9     29.1   \n",
       "\n",
       "          Legume and Legume Products  Spices & Herbs  \n",
       "Country                                               \n",
       "Spain                            5.8             0.4  \n",
       "Chile                            3.9             1.5  \n",
       "Iceland                          1.1             1.6  \n",
       "Sweden                           2.5             1.1  \n",
       "Slovenia                         1.4             0.3  "
      ]
     },
     "execution_count": 4,
     "metadata": {},
     "output_type": "execute_result"
    }
   ],
   "source": [
    "# Resetting the index\n",
    "reset_indeces = data.set_index(\"Country\")\n",
    "\n",
    "reset_indeces.head()"
   ]
  },
  {
   "cell_type": "code",
   "execution_count": 5,
   "id": "76b1525c",
   "metadata": {
    "execution": {
     "iopub.execute_input": "2023-12-22T14:48:58.869720Z",
     "iopub.status.busy": "2023-12-22T14:48:58.868911Z",
     "iopub.status.idle": "2023-12-22T14:49:00.374723Z",
     "shell.execute_reply": "2023-12-22T14:49:00.373636Z"
    },
    "papermill": {
     "duration": 1.514782,
     "end_time": "2023-12-22T14:49:00.377040",
     "exception": false,
     "start_time": "2023-12-22T14:48:58.862258",
     "status": "completed"
    },
    "tags": []
   },
   "outputs": [
    {
     "data": {
      "text/html": [
       "<div>\n",
       "<style scoped>\n",
       "    .dataframe tbody tr th:only-of-type {\n",
       "        vertical-align: middle;\n",
       "    }\n",
       "\n",
       "    .dataframe tbody tr th {\n",
       "        vertical-align: top;\n",
       "    }\n",
       "\n",
       "    .dataframe thead th {\n",
       "        text-align: right;\n",
       "    }\n",
       "</style>\n",
       "<table border=\"1\" class=\"dataframe\">\n",
       "  <thead>\n",
       "    <tr style=\"text-align: right;\">\n",
       "      <th></th>\n",
       "      <th>Supply Diversity Indeces</th>\n",
       "    </tr>\n",
       "    <tr>\n",
       "      <th>Country</th>\n",
       "      <th></th>\n",
       "    </tr>\n",
       "  </thead>\n",
       "  <tbody>\n",
       "    <tr>\n",
       "      <th>Spain</th>\n",
       "      <td>2.138885</td>\n",
       "    </tr>\n",
       "    <tr>\n",
       "      <th>Chile</th>\n",
       "      <td>2.105233</td>\n",
       "    </tr>\n",
       "    <tr>\n",
       "      <th>Iceland</th>\n",
       "      <td>2.115612</td>\n",
       "    </tr>\n",
       "    <tr>\n",
       "      <th>Sweden</th>\n",
       "      <td>2.019177</td>\n",
       "    </tr>\n",
       "    <tr>\n",
       "      <th>Slovenia</th>\n",
       "      <td>1.987958</td>\n",
       "    </tr>\n",
       "    <tr>\n",
       "      <th>...</th>\n",
       "      <td>...</td>\n",
       "    </tr>\n",
       "    <tr>\n",
       "      <th>Mexico</th>\n",
       "      <td>2.034659</td>\n",
       "    </tr>\n",
       "    <tr>\n",
       "      <th>Ecuador</th>\n",
       "      <td>1.950009</td>\n",
       "    </tr>\n",
       "    <tr>\n",
       "      <th>Dominican Republic</th>\n",
       "      <td>1.849328</td>\n",
       "    </tr>\n",
       "    <tr>\n",
       "      <th>Cuba</th>\n",
       "      <td>2.050092</td>\n",
       "    </tr>\n",
       "    <tr>\n",
       "      <th>Lebanon</th>\n",
       "      <td>2.085413</td>\n",
       "    </tr>\n",
       "  </tbody>\n",
       "</table>\n",
       "<p>156 rows × 1 columns</p>\n",
       "</div>"
      ],
      "text/plain": [
       "                    Supply Diversity Indeces\n",
       "Country                                     \n",
       "Spain                               2.138885\n",
       "Chile                               2.105233\n",
       "Iceland                             2.115612\n",
       "Sweden                              2.019177\n",
       "Slovenia                            1.987958\n",
       "...                                      ...\n",
       "Mexico                              2.034659\n",
       "Ecuador                             1.950009\n",
       "Dominican Republic                  1.849328\n",
       "Cuba                                2.050092\n",
       "Lebanon                             2.085413\n",
       "\n",
       "[156 rows x 1 columns]"
      ]
     },
     "execution_count": 5,
     "metadata": {},
     "output_type": "execute_result"
    }
   ],
   "source": [
    "# Separating the table for calculations and the table for indexing\n",
    "shannon_table = reset_indeces.iloc[:, 2:]\n",
    "\n",
    "indexing_table = reset_indeces.iloc[:, :2]\n",
    "\n",
    "\n",
    "# Calculating Shannon\n",
    "food_supply_diversity_shannon = Shannon_diversity(shannon_table)\n",
    "\n",
    "food_supply_diversity_shannon"
   ]
  },
  {
   "cell_type": "code",
   "execution_count": 6,
   "id": "47495249",
   "metadata": {
    "execution": {
     "iopub.execute_input": "2023-12-22T14:49:00.390214Z",
     "iopub.status.busy": "2023-12-22T14:49:00.389847Z",
     "iopub.status.idle": "2023-12-22T14:49:00.409038Z",
     "shell.execute_reply": "2023-12-22T14:49:00.408017Z"
    },
    "papermill": {
     "duration": 0.028685,
     "end_time": "2023-12-22T14:49:00.411594",
     "exception": false,
     "start_time": "2023-12-22T14:49:00.382909",
     "status": "completed"
    },
    "tags": []
   },
   "outputs": [
    {
     "data": {
      "text/html": [
       "<div>\n",
       "<style scoped>\n",
       "    .dataframe tbody tr th:only-of-type {\n",
       "        vertical-align: middle;\n",
       "    }\n",
       "\n",
       "    .dataframe tbody tr th {\n",
       "        vertical-align: top;\n",
       "    }\n",
       "\n",
       "    .dataframe thead th {\n",
       "        text-align: right;\n",
       "    }\n",
       "</style>\n",
       "<table border=\"1\" class=\"dataframe\">\n",
       "  <thead>\n",
       "    <tr style=\"text-align: right;\">\n",
       "      <th></th>\n",
       "      <th>Income group</th>\n",
       "      <th>Supply Diversity Indeces</th>\n",
       "    </tr>\n",
       "    <tr>\n",
       "      <th>Country</th>\n",
       "      <th></th>\n",
       "      <th></th>\n",
       "    </tr>\n",
       "  </thead>\n",
       "  <tbody>\n",
       "    <tr>\n",
       "      <th>Spain</th>\n",
       "      <td>High income</td>\n",
       "      <td>2.138885</td>\n",
       "    </tr>\n",
       "    <tr>\n",
       "      <th>Chile</th>\n",
       "      <td>High income</td>\n",
       "      <td>2.105233</td>\n",
       "    </tr>\n",
       "    <tr>\n",
       "      <th>Iceland</th>\n",
       "      <td>High income</td>\n",
       "      <td>2.115612</td>\n",
       "    </tr>\n",
       "    <tr>\n",
       "      <th>Sweden</th>\n",
       "      <td>High income</td>\n",
       "      <td>2.019177</td>\n",
       "    </tr>\n",
       "    <tr>\n",
       "      <th>Slovenia</th>\n",
       "      <td>High income</td>\n",
       "      <td>1.987958</td>\n",
       "    </tr>\n",
       "    <tr>\n",
       "      <th>...</th>\n",
       "      <td>...</td>\n",
       "      <td>...</td>\n",
       "    </tr>\n",
       "    <tr>\n",
       "      <th>Mexico</th>\n",
       "      <td>Upper middle income</td>\n",
       "      <td>2.034659</td>\n",
       "    </tr>\n",
       "    <tr>\n",
       "      <th>Ecuador</th>\n",
       "      <td>Upper middle income</td>\n",
       "      <td>1.950009</td>\n",
       "    </tr>\n",
       "    <tr>\n",
       "      <th>Dominican Republic</th>\n",
       "      <td>Upper middle income</td>\n",
       "      <td>1.849328</td>\n",
       "    </tr>\n",
       "    <tr>\n",
       "      <th>Cuba</th>\n",
       "      <td>Upper middle income</td>\n",
       "      <td>2.050092</td>\n",
       "    </tr>\n",
       "    <tr>\n",
       "      <th>Lebanon</th>\n",
       "      <td>Upper middle income</td>\n",
       "      <td>2.085413</td>\n",
       "    </tr>\n",
       "  </tbody>\n",
       "</table>\n",
       "<p>156 rows × 2 columns</p>\n",
       "</div>"
      ],
      "text/plain": [
       "                           Income group  Supply Diversity Indeces\n",
       "Country                                                          \n",
       "Spain                       High income                  2.138885\n",
       "Chile                       High income                  2.105233\n",
       "Iceland                     High income                  2.115612\n",
       "Sweden                      High income                  2.019177\n",
       "Slovenia                    High income                  1.987958\n",
       "...                                 ...                       ...\n",
       "Mexico              Upper middle income                  2.034659\n",
       "Ecuador             Upper middle income                  1.950009\n",
       "Dominican Republic  Upper middle income                  1.849328\n",
       "Cuba                Upper middle income                  2.050092\n",
       "Lebanon             Upper middle income                  2.085413\n",
       "\n",
       "[156 rows x 2 columns]"
      ]
     },
     "execution_count": 6,
     "metadata": {},
     "output_type": "execute_result"
    }
   ],
   "source": [
    "# Attaching the Shannon data with sizes of economy\n",
    "\n",
    "food_supply_diversity_economized = pd.merge(indexing_table,\n",
    "                                            food_supply_diversity_shannon,\n",
    "                                            left_index=True,\n",
    "                                            right_index=True).drop(\"Region\", axis=1)\n",
    "\n",
    "food_supply_diversity_economized"
   ]
  },
  {
   "cell_type": "code",
   "execution_count": 7,
   "id": "9870bbcc",
   "metadata": {
    "execution": {
     "iopub.execute_input": "2023-12-22T14:49:00.425368Z",
     "iopub.status.busy": "2023-12-22T14:49:00.424999Z",
     "iopub.status.idle": "2023-12-22T14:49:00.437493Z",
     "shell.execute_reply": "2023-12-22T14:49:00.436386Z"
    },
    "papermill": {
     "duration": 0.021844,
     "end_time": "2023-12-22T14:49:00.439613",
     "exception": false,
     "start_time": "2023-12-22T14:49:00.417769",
     "status": "completed"
    },
    "tags": []
   },
   "outputs": [
    {
     "data": {
      "text/html": [
       "<div>\n",
       "<style scoped>\n",
       "    .dataframe tbody tr th:only-of-type {\n",
       "        vertical-align: middle;\n",
       "    }\n",
       "\n",
       "    .dataframe tbody tr th {\n",
       "        vertical-align: top;\n",
       "    }\n",
       "\n",
       "    .dataframe thead th {\n",
       "        text-align: right;\n",
       "    }\n",
       "</style>\n",
       "<table border=\"1\" class=\"dataframe\">\n",
       "  <thead>\n",
       "    <tr style=\"text-align: right;\">\n",
       "      <th></th>\n",
       "      <th>Income group</th>\n",
       "      <th>Supply Diversity Indeces</th>\n",
       "      <th>scaled_values</th>\n",
       "    </tr>\n",
       "    <tr>\n",
       "      <th>Country</th>\n",
       "      <th></th>\n",
       "      <th></th>\n",
       "      <th></th>\n",
       "    </tr>\n",
       "  </thead>\n",
       "  <tbody>\n",
       "    <tr>\n",
       "      <th>Spain</th>\n",
       "      <td>High income</td>\n",
       "      <td>2.138885</td>\n",
       "      <td>83.388958</td>\n",
       "    </tr>\n",
       "    <tr>\n",
       "      <th>Chile</th>\n",
       "      <td>High income</td>\n",
       "      <td>2.105233</td>\n",
       "      <td>82.076972</td>\n",
       "    </tr>\n",
       "    <tr>\n",
       "      <th>Iceland</th>\n",
       "      <td>High income</td>\n",
       "      <td>2.115612</td>\n",
       "      <td>82.481614</td>\n",
       "    </tr>\n",
       "    <tr>\n",
       "      <th>Sweden</th>\n",
       "      <td>High income</td>\n",
       "      <td>2.019177</td>\n",
       "      <td>78.721908</td>\n",
       "    </tr>\n",
       "    <tr>\n",
       "      <th>Slovenia</th>\n",
       "      <td>High income</td>\n",
       "      <td>1.987958</td>\n",
       "      <td>77.504750</td>\n",
       "    </tr>\n",
       "  </tbody>\n",
       "</table>\n",
       "</div>"
      ],
      "text/plain": [
       "         Income group  Supply Diversity Indeces  scaled_values\n",
       "Country                                                       \n",
       "Spain     High income                  2.138885      83.388958\n",
       "Chile     High income                  2.105233      82.076972\n",
       "Iceland   High income                  2.115612      82.481614\n",
       "Sweden    High income                  2.019177      78.721908\n",
       "Slovenia  High income                  1.987958      77.504750"
      ]
     },
     "execution_count": 7,
     "metadata": {},
     "output_type": "execute_result"
    }
   ],
   "source": [
    "# Scaling the result on a scale of 0-100 (0=Worst, 100=Best)\n",
    "\n",
    "food_supply_diversity_economized[\"scaled_values\"] = food_supply_diversity_economized[\"Supply Diversity Indeces\"] * 100/np.log(13) # Thirteen is the number of food groups the index was calculated on. For further reading, consult the scaling done by Gustafson et al (2016): Seven Metrics of Sustainable Nutrition Security\n",
    "\n",
    "food_supply_diversity_economized.head()"
   ]
  },
  {
   "cell_type": "markdown",
   "id": "a4d733e2",
   "metadata": {
    "execution": {
     "iopub.execute_input": "2023-12-22T14:05:17.262680Z",
     "iopub.status.busy": "2023-12-22T14:05:17.262308Z",
     "iopub.status.idle": "2023-12-22T14:05:17.271376Z",
     "shell.execute_reply": "2023-12-22T14:05:17.270254Z",
     "shell.execute_reply.started": "2023-12-22T14:05:17.262654Z"
    },
    "papermill": {
     "duration": 0.005805,
     "end_time": "2023-12-22T14:49:00.451617",
     "exception": false,
     "start_time": "2023-12-22T14:49:00.445812",
     "status": "completed"
    },
    "tags": []
   },
   "source": [
    "# Results\n",
    "\n",
    "Charts below show a graphical representation of the obtained results."
   ]
  },
  {
   "cell_type": "code",
   "execution_count": 8,
   "id": "b3912a01",
   "metadata": {
    "execution": {
     "iopub.execute_input": "2023-12-22T14:49:00.465501Z",
     "iopub.status.busy": "2023-12-22T14:49:00.465101Z",
     "iopub.status.idle": "2023-12-22T14:49:00.788889Z",
     "shell.execute_reply": "2023-12-22T14:49:00.787855Z"
    },
    "papermill": {
     "duration": 0.33358,
     "end_time": "2023-12-22T14:49:00.791235",
     "exception": false,
     "start_time": "2023-12-22T14:49:00.457655",
     "status": "completed"
    },
    "tags": []
   },
   "outputs": [
    {
     "data": {
      "text/plain": [
       "[Text(0.5, 1.0, 'Distribution of Diversity Values for Different Economies'),\n",
       " Text(0.5, 0, 'Diversity Score (0=Wost, 100=Best)')]"
      ]
     },
     "execution_count": 8,
     "metadata": {},
     "output_type": "execute_result"
    },
    {
     "data": {
      "image/png": "[encoded data removed]",
      "text/plain": [
       "<Figure size 640x480 with 1 Axes>"
      ]
     },
     "metadata": {},
     "output_type": "display_data"
    }
   ],
   "source": [
    "sns.boxplot(x=\"scaled_values\",\n",
    "            y=\"Income group\",\n",
    "            data=food_supply_diversity_economized.sort_values(\"scaled_values\", ascending=False),\n",
    "            palette=\"tab10\").set(title=\"Distribution of Diversity Values for Different Economies\", xlabel=\"Diversity Score (0=Wost, 100=Best)\")"
   ]
  },
  {
   "cell_type": "code",
   "execution_count": 9,
   "id": "41d4ec2b",
   "metadata": {
    "execution": {
     "iopub.execute_input": "2023-12-22T14:49:00.807491Z",
     "iopub.status.busy": "2023-12-22T14:49:00.807057Z",
     "iopub.status.idle": "2023-12-22T14:49:00.819656Z",
     "shell.execute_reply": "2023-12-22T14:49:00.818570Z"
    },
    "papermill": {
     "duration": 0.023596,
     "end_time": "2023-12-22T14:49:00.821994",
     "exception": false,
     "start_time": "2023-12-22T14:49:00.798398",
     "status": "completed"
    },
    "tags": []
   },
   "outputs": [
    {
     "data": {
      "text/html": [
       "<div>\n",
       "<style scoped>\n",
       "    .dataframe tbody tr th:only-of-type {\n",
       "        vertical-align: middle;\n",
       "    }\n",
       "\n",
       "    .dataframe tbody tr th {\n",
       "        vertical-align: top;\n",
       "    }\n",
       "\n",
       "    .dataframe thead th {\n",
       "        text-align: right;\n",
       "    }\n",
       "</style>\n",
       "<table border=\"1\" class=\"dataframe\">\n",
       "  <thead>\n",
       "    <tr style=\"text-align: right;\">\n",
       "      <th></th>\n",
       "      <th>Income group</th>\n",
       "      <th>Supply Diversity Indeces</th>\n",
       "      <th>scaled_values</th>\n",
       "    </tr>\n",
       "    <tr>\n",
       "      <th>Country</th>\n",
       "      <th></th>\n",
       "      <th></th>\n",
       "      <th></th>\n",
       "    </tr>\n",
       "  </thead>\n",
       "  <tbody>\n",
       "    <tr>\n",
       "      <th>Central African Republic</th>\n",
       "      <td>Low income</td>\n",
       "      <td>2.168598</td>\n",
       "      <td>84.547388</td>\n",
       "    </tr>\n",
       "  </tbody>\n",
       "</table>\n",
       "</div>"
      ],
      "text/plain": [
       "                         Income group  Supply Diversity Indeces  scaled_values\n",
       "Country                                                                       \n",
       "Central African Republic   Low income                  2.168598      84.547388"
      ]
     },
     "execution_count": 9,
     "metadata": {},
     "output_type": "execute_result"
    }
   ],
   "source": [
    "# Subsetting the outlier in low-incomes\n",
    "outlier = food_supply_diversity_economized[(food_supply_diversity_economized[\"Income group\"] == \"Low income\") &\n",
    "                                           (food_supply_diversity_economized[\"scaled_values\"] >= 80)]\n",
    "\n",
    "outlier"
   ]
  },
  {
   "cell_type": "code",
   "execution_count": 10,
   "id": "55bb6524",
   "metadata": {
    "execution": {
     "iopub.execute_input": "2023-12-22T14:49:00.838632Z",
     "iopub.status.busy": "2023-12-22T14:49:00.837526Z",
     "iopub.status.idle": "2023-12-22T14:49:01.124791Z",
     "shell.execute_reply": "2023-12-22T14:49:01.122358Z"
    },
    "papermill": {
     "duration": 0.298152,
     "end_time": "2023-12-22T14:49:01.127441",
     "exception": false,
     "start_time": "2023-12-22T14:49:00.829289",
     "status": "completed"
    },
    "tags": []
   },
   "outputs": [
    {
     "data": {
      "text/plain": [
       "[Text(0.5, 1.0, 'Diversity Values Re-Plotted'),\n",
       " Text(0.5, 0, 'Diversity Score')]"
      ]
     },
     "execution_count": 10,
     "metadata": {},
     "output_type": "execute_result"
    },
    {
     "data": {
      "image/png": "[encoded data removed]",
      "text/plain": [
       "<Figure size 640x480 with 1 Axes>"
      ]
     },
     "metadata": {},
     "output_type": "display_data"
    }
   ],
   "source": [
    "# Removing the outlier\n",
    "shannon_scores = food_supply_diversity_economized.drop(\"Central African Republic\")\n",
    "\n",
    "\n",
    "# Plotting the table again\n",
    "sns.boxplot(data=shannon_scores.sort_values(\"scaled_values\", ascending=False),\n",
    "            x=\"scaled_values\",\n",
    "            y=\"Income group\").set(title=\"Diversity Values Re-Plotted\", xlabel=\"Diversity Score\")"
   ]
  },
  {
   "cell_type": "code",
   "execution_count": 11,
   "id": "80ed718a",
   "metadata": {
    "execution": {
     "iopub.execute_input": "2023-12-22T14:49:01.145481Z",
     "iopub.status.busy": "2023-12-22T14:49:01.145100Z",
     "iopub.status.idle": "2023-12-22T14:49:01.180996Z",
     "shell.execute_reply": "2023-12-22T14:49:01.179943Z"
    },
    "papermill": {
     "duration": 0.047421,
     "end_time": "2023-12-22T14:49:01.183507",
     "exception": false,
     "start_time": "2023-12-22T14:49:01.136086",
     "status": "completed"
    },
    "tags": []
   },
   "outputs": [
    {
     "data": {
      "text/html": [
       "<div>\n",
       "<style scoped>\n",
       "    .dataframe tbody tr th:only-of-type {\n",
       "        vertical-align: middle;\n",
       "    }\n",
       "\n",
       "    .dataframe tbody tr th {\n",
       "        vertical-align: top;\n",
       "    }\n",
       "\n",
       "    .dataframe thead th {\n",
       "        text-align: right;\n",
       "    }\n",
       "</style>\n",
       "<table border=\"1\" class=\"dataframe\">\n",
       "  <thead>\n",
       "    <tr style=\"text-align: right;\">\n",
       "      <th></th>\n",
       "      <th>sum_sq</th>\n",
       "      <th>df</th>\n",
       "      <th>F</th>\n",
       "      <th>PR(&gt;F)</th>\n",
       "    </tr>\n",
       "  </thead>\n",
       "  <tbody>\n",
       "    <tr>\n",
       "      <th>C(income_group)</th>\n",
       "      <td>1.699462</td>\n",
       "      <td>3.0</td>\n",
       "      <td>41.830054</td>\n",
       "      <td>9.803046e-20</td>\n",
       "    </tr>\n",
       "    <tr>\n",
       "      <th>Residual</th>\n",
       "      <td>2.044932</td>\n",
       "      <td>151.0</td>\n",
       "      <td>NaN</td>\n",
       "      <td>NaN</td>\n",
       "    </tr>\n",
       "  </tbody>\n",
       "</table>\n",
       "</div>"
      ],
      "text/plain": [
       "                   sum_sq     df          F        PR(>F)\n",
       "C(income_group)  1.699462    3.0  41.830054  9.803046e-20\n",
       "Residual         2.044932  151.0        NaN           NaN"
      ]
     },
     "execution_count": 11,
     "metadata": {},
     "output_type": "execute_result"
    }
   ],
   "source": [
    "# Running ANOVA on the data.\n",
    "\n",
    "## Renaming columns\n",
    "shannon_scores.columns = [\"income_group\", \"diversity_score\", \"scaled_values\"]\n",
    "\n",
    "\n",
    "# Fitting and running the model\n",
    "model = ols(\"diversity_score ~ C(income_group)\", data=shannon_scores).fit()\n",
    "\n",
    "anova_table = sm.stats.anova_lm(model, typ=2)\n",
    "\n",
    "anova_table"
   ]
  },
  {
   "cell_type": "code",
   "execution_count": 12,
   "id": "59a5df55",
   "metadata": {
    "execution": {
     "iopub.execute_input": "2023-12-22T14:49:01.201374Z",
     "iopub.status.busy": "2023-12-22T14:49:01.200762Z",
     "iopub.status.idle": "2023-12-22T14:49:01.494206Z",
     "shell.execute_reply": "2023-12-22T14:49:01.493118Z"
    },
    "papermill": {
     "duration": 0.306108,
     "end_time": "2023-12-22T14:49:01.497528",
     "exception": false,
     "start_time": "2023-12-22T14:49:01.191420",
     "status": "completed"
    },
    "tags": []
   },
   "outputs": [
    {
     "data": {
      "text/plain": [
       "[Text(0.5, 1.0, 'Median Diversity Score Per Income Group'),\n",
       " Text(0.5, 0, 'Diversity Score')]"
      ]
     },
     "execution_count": 12,
     "metadata": {},
     "output_type": "execute_result"
    },
    {
     "data": {
      "image/png": "[encoded data removed]",
      "text/plain": [
       "<Figure size 640x480 with 1 Axes>"
      ]
     },
     "metadata": {},
     "output_type": "display_data"
    }
   ],
   "source": [
    "# There's definitely a statistical significance. Ploting the median values.\n",
    "\n",
    "## Grouping the original dataset by medians\n",
    "df = shannon_scores.groupby(\"income_group\")[[\"scaled_values\"]].median().sort_values(\"scaled_values\", ascending=False)\n",
    "\n",
    "# Visualizing the medians\n",
    "sns.barplot(data=df,\n",
    "            x=\"scaled_values\",\n",
    "            y=df.index,\n",
    "            palette=\"viridis_r\").set(title=\"Median Diversity Score Per Income Group\", xlabel=\"Diversity Score\")"
   ]
  },
  {
   "cell_type": "code",
   "execution_count": 13,
   "id": "9f45c5a7",
   "metadata": {
    "execution": {
     "iopub.execute_input": "2023-12-22T14:49:01.516561Z",
     "iopub.status.busy": "2023-12-22T14:49:01.515612Z",
     "iopub.status.idle": "2023-12-22T14:49:01.527480Z",
     "shell.execute_reply": "2023-12-22T14:49:01.526688Z"
    },
    "papermill": {
     "duration": 0.02375,
     "end_time": "2023-12-22T14:49:01.529725",
     "exception": false,
     "start_time": "2023-12-22T14:49:01.505975",
     "status": "completed"
    },
    "tags": []
   },
   "outputs": [
    {
     "data": {
      "text/html": [
       "<div>\n",
       "<style scoped>\n",
       "    .dataframe tbody tr th:only-of-type {\n",
       "        vertical-align: middle;\n",
       "    }\n",
       "\n",
       "    .dataframe tbody tr th {\n",
       "        vertical-align: top;\n",
       "    }\n",
       "\n",
       "    .dataframe thead th {\n",
       "        text-align: right;\n",
       "    }\n",
       "</style>\n",
       "<table border=\"1\" class=\"dataframe\">\n",
       "  <thead>\n",
       "    <tr style=\"text-align: right;\">\n",
       "      <th></th>\n",
       "      <th>scaled_values</th>\n",
       "    </tr>\n",
       "    <tr>\n",
       "      <th>income_group</th>\n",
       "      <th></th>\n",
       "    </tr>\n",
       "  </thead>\n",
       "  <tbody>\n",
       "    <tr>\n",
       "      <th>High income</th>\n",
       "      <td>81.439363</td>\n",
       "    </tr>\n",
       "    <tr>\n",
       "      <th>Upper middle income</th>\n",
       "      <td>78.371719</td>\n",
       "    </tr>\n",
       "    <tr>\n",
       "      <th>Lower middle income</th>\n",
       "      <td>72.319410</td>\n",
       "    </tr>\n",
       "    <tr>\n",
       "      <th>Low income</th>\n",
       "      <td>68.814870</td>\n",
       "    </tr>\n",
       "  </tbody>\n",
       "</table>\n",
       "</div>"
      ],
      "text/plain": [
       "                     scaled_values\n",
       "income_group                      \n",
       "High income              81.439363\n",
       "Upper middle income      78.371719\n",
       "Lower middle income      72.319410\n",
       "Low income               68.814870"
      ]
     },
     "execution_count": 13,
     "metadata": {},
     "output_type": "execute_result"
    }
   ],
   "source": [
    "df"
   ]
  },
  {
   "cell_type": "markdown",
   "id": "c3b551c9",
   "metadata": {
    "papermill": {
     "duration": 0.009011,
     "end_time": "2023-12-22T14:49:01.550765",
     "exception": false,
     "start_time": "2023-12-22T14:49:01.541754",
     "status": "completed"
    },
    "tags": []
   },
   "source": [
    "# Conclusion\n",
    "\n",
    "1. High income countries leads all other group, with a median diversity score of 81.4 out 100 (100 being most diverse), followed by upper-middle-income (78.3), lower-middle-income (72.3), and then low-income (68.8).\n",
    "\n",
    "2. There is statistically significant difference between income groups; which means it makes a difference in the diversity of your diet if you're born in a high-income country, upper-middle-income, lower-middle-income, or low income.\n",
    "\n",
    "3. The larger the size of the economy, the more diverse the diet is."
   ]
  }
 ],
 "metadata": {
  "kaggle": {
   "accelerator": "none",
   "dataSources": [
    {
     "datasetId": 4207315,
     "sourceId": 7259915,
     "sourceType": "datasetVersion"
    }
   ],
   "isGpuEnabled": false,
   "isInternetEnabled": true,
   "language": "python",
   "sourceType": "notebook"
  },
  "kernelspec": {
   "display_name": "Python 3 (ipykernel)",
   "language": "python",
   "name": "python3"
  },
  "language_info": {
   "codemirror_mode": {
    "name": "ipython",
    "version": 3
   },
   "file_extension": ".py",
   "mimetype": "text/x-python",
   "name": "python",
   "nbconvert_exporter": "python",
   "pygments_lexer": "ipython3",
   "version": "3.10.6"
  },
  "papermill": {
   "default_parameters": {},
   "duration": 9.649749,
   "end_time": "2023-12-22T14:49:02.182744",
   "environment_variables": {},
   "exception": null,
   "input_path": "__notebook__.ipynb",
   "output_path": "__notebook__.ipynb",
   "parameters": {},
   "start_time": "2023-12-22T14:48:52.532995",
   "version": "2.4.0"
  }
 },
 "nbformat": 4,
 "nbformat_minor": 5
}
